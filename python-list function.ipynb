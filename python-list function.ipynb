{
 "cells": [
  {
   "cell_type": "code",
   "execution_count": 1,
   "id": "c515e728-94d2-4bd4-9ca0-5f03e0e8bc39",
   "metadata": {},
   "outputs": [
    {
     "ename": "NameError",
     "evalue": "name 'your_list' is not defined",
     "output_type": "error",
     "traceback": [
      "\u001b[0;31m---------------------------------------------------------------------------\u001b[0m",
      "\u001b[0;31mNameError\u001b[0m                                 Traceback (most recent call last)",
      "Cell \u001b[0;32mIn[1], line 1\u001b[0m\n\u001b[0;32m----> 1\u001b[0m \u001b[43myour_list\u001b[49m\u001b[38;5;241m.\u001b[39mappend(new_element)\n",
      "\u001b[0;31mNameError\u001b[0m: name 'your_list' is not defined"
     ]
    }
   ],
   "source": [
    "your_list.append(new_element)"
   ]
  },
  {
   "cell_type": "code",
   "execution_count": 2,
   "id": "d2c9c69d-104e-4e16-b966-e54c4bb8541a",
   "metadata": {},
   "outputs": [
    {
     "ename": "NameError",
     "evalue": "name 'your_list' is not defined",
     "output_type": "error",
     "traceback": [
      "\u001b[0;31m---------------------------------------------------------------------------\u001b[0m",
      "\u001b[0;31mNameError\u001b[0m                                 Traceback (most recent call last)",
      "Cell \u001b[0;32mIn[2], line 1\u001b[0m\n\u001b[0;32m----> 1\u001b[0m your_list \u001b[38;5;241m=\u001b[39m \u001b[43myour_list\u001b[49m \u001b[38;5;241m+\u001b[39m [new_element]\n",
      "\u001b[0;31mNameError\u001b[0m: name 'your_list' is not defined"
     ]
    }
   ],
   "source": [
    "your_list = your_list + [new_element]"
   ]
  },
  {
   "cell_type": "markdown",
   "id": "c6bc22db-fb8d-435a-b032-19b5d6a79dba",
   "metadata": {},
   "source": [
    "In Python, both the remove() and pop() functions are used to remove elements from a list, but they differ in how they work:\n",
    "\n",
    "1. remove(): This function is used to remove the first occurrence of a specified value from the list. It takes the value to be removed as an argument. If the value is not found in the list, it raises a ValueError.\n",
    "   \n",
    "   Syntax: your_list.remove(value)\n",
    "\n",
    "2. pop(): This function is used to remove and return the element at a specified index from the list. If no index is specified, it removes and returns the last element from the list. It modifies the original list.\n",
    "   \n",
    "   Syntax: your_list.pop(index)\n",
    "\n",
    "In summary, remove() removes an element based on its value, while pop() removes an element based on its index and returns the removed element."
   ]
  },
  {
   "cell_type": "code",
   "execution_count": 3,
   "id": "a9f31ea8-d056-4645-a6e7-2d692c50d62f",
   "metadata": {},
   "outputs": [
    {
     "name": "stdout",
     "output_type": "stream",
     "text": [
      "Sorted list in descending order: [9, 7, 5, 4, 2, 1]\n"
     ]
    }
   ],
   "source": [
    "your_list = [4, 2, 7, 1, 9, 5]\n",
    "sorted_list_desc = sorted(your_list, reverse=True)\n",
    "print(\"Sorted list in descending order:\", sorted_list_desc)"
   ]
  },
  {
   "cell_type": "code",
   "execution_count": 4,
   "id": "458ff16a-6cd3-4c4e-a5e4-bbc042eecba4",
   "metadata": {},
   "outputs": [
    {
     "name": "stdout",
     "output_type": "stream",
     "text": [
      "Sorted list in descending order: [9, 7, 5, 4, 2, 1]\n"
     ]
    }
   ],
   "source": [
    "your_list = [4, 2, 7, 1, 9, 5]\n",
    "your_list.sort(reverse=True)\n",
    "print(\"Sorted list in descending order:\", your_list)"
   ]
  },
  {
   "cell_type": "code",
   "execution_count": 5,
   "id": "6416cea8-5e35-4ed7-a972-2619a7ad91e4",
   "metadata": {},
   "outputs": [
    {
     "name": "stdout",
     "output_type": "stream",
     "text": [
      "Number of occurrences of 2 in the list: 4\n"
     ]
    }
   ],
   "source": [
    "your_list = [1, 2, 3, 4, 2, 2, 5, 2]\n",
    "element_to_count = 2\n",
    "occurrences = your_list.count(element_to_count)\n",
    "print(\"Number of occurrences of\", element_to_count, \"in the list:\", occurrences)"
   ]
  },
  {
   "cell_type": "code",
   "execution_count": null,
   "id": "1555d479-f0eb-4266-9163-7698647f2bea",
   "metadata": {},
   "outputs": [],
   "source": []
  }
 ],
 "metadata": {
  "kernelspec": {
   "display_name": "Python 3 (ipykernel)",
   "language": "python",
   "name": "python3"
  },
  "language_info": {
   "codemirror_mode": {
    "name": "ipython",
    "version": 3
   },
   "file_extension": ".py",
   "mimetype": "text/x-python",
   "name": "python",
   "nbconvert_exporter": "python",
   "pygments_lexer": "ipython3",
   "version": "3.10.8"
  }
 },
 "nbformat": 4,
 "nbformat_minor": 5
}
